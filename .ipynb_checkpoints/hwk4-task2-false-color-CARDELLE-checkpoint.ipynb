{
 "cells": [
  {
   "cell_type": "markdown",
   "id": "3d3f2a10-7e86-4106-a911-980ca3a45ab1",
   "metadata": {},
   "source": [
    "# Assignment 4 - Task 2: Visualizing fire scars through false color\n",
    "## Sections 3, 4, and 5\n",
    "\n",
    "### Author: Josephine Cardelle \n",
    "\n",
    "### GitHub repository:\n",
    "\n",
    "https://github.com/jocardelle/eds220-hwk4"
   ]
  },
  {
   "cell_type": "markdown",
   "id": "642b4bde-fc0b-4d8f-97dd-77b4c600d81b",
   "metadata": {},
   "source": [
    "## Load in Libraries"
   ]
  },
  {
   "cell_type": "code",
   "execution_count": 5,
   "id": "c698e719-d881-4212-85eb-76646cc308a5",
   "metadata": {
    "tags": []
   },
   "outputs": [],
   "source": [
    "# Load libraries\n",
    "# Load libraries\n",
    "import os              \n",
    "import numpy as np\n",
    "import pandas as pd\n",
    "import geopandas as gpd\n",
    "import rioxarray as rioxr\n",
    "import xarray as xr"
   ]
  },
  {
   "cell_type": "markdown",
   "id": "24abbfe6-3054-4885-8d5b-919d5e076bc1",
   "metadata": {},
   "source": [
    "## Import Data\n",
    "a. Construct a file path to the Landsat data using os and import it using rioxr.open_rasterio()."
   ]
  },
  {
   "cell_type": "code",
   "execution_count": 6,
   "id": "63f21313-08ca-40d2-9d56-18a956d3dc38",
   "metadata": {
    "tags": []
   },
   "outputs": [],
   "source": [
    "# Construct a file path and open data\n",
    "fp = os.path.join('data','landsat8-2018-01-26-sb-simplified.nc')\n",
    "ls = rioxr.open_rasterio(fp)"
   ]
  },
  {
   "cell_type": "code",
   "execution_count": null,
   "id": "af82faeb-6be9-413e-af5f-75ccd9ce3a10",
   "metadata": {
    "tags": []
   },
   "outputs": [],
   "source": []
  },
  {
   "cell_type": "code",
   "execution_count": null,
   "id": "a19163be-23b2-4a21-9a78-524ae99fe044",
   "metadata": {},
   "outputs": [],
   "source": []
  }
 ],
 "metadata": {
  "kernelspec": {
   "display_name": "Anaconda 3 (EDS220)",
   "language": "python",
   "name": "eds220-env"
  },
  "language_info": {
   "codemirror_mode": {
    "name": "ipython",
    "version": 3
   },
   "file_extension": ".py",
   "mimetype": "text/x-python",
   "name": "python",
   "nbconvert_exporter": "python",
   "pygments_lexer": "ipython3",
   "version": "3.11.4"
  }
 },
 "nbformat": 4,
 "nbformat_minor": 5
}
