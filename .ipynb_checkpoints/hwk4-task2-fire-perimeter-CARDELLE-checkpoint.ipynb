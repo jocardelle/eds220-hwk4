{
 "cells": [
  {
   "cell_type": "markdown",
   "id": "4054ce92-495c-40e6-9bb6-0e4914f076c6",
   "metadata": {},
   "source": [
    "# Assignment 4 - Task 2: Visualizing fire scars through false color\n",
    "## Section 2\n",
    "\n",
    "### Author: Josephine Cardelle \n",
    "\n",
    "### GitHub repository:\n",
    "\n",
    "https://github.com/jocardelle/eds220-hwk4"
   ]
  },
  {
   "cell_type": "markdown",
   "id": "b457f14e-591d-40f5-a85b-0fb69142fd4b",
   "metadata": {},
   "source": [
    "## Load in Libraries"
   ]
  },
  {
   "cell_type": "code",
   "execution_count": 1,
   "id": "5038bc61-03f4-4991-8d66-09dd9f4c1da7",
   "metadata": {
    "tags": []
   },
   "outputs": [],
   "source": [
    "# Load libraries\n",
    "import os              \n",
    "import numpy as np\n",
    "import pandas as pd\n",
    "import geopandas as gpd"
   ]
  },
  {
   "cell_type": "markdown",
   "id": "46c1c80b-7ad4-4b91-b2d8-348c7d3dc036",
   "metadata": {},
   "source": [
    "## Read in the data"
   ]
  },
  {
   "cell_type": "code",
   "execution_count": 3,
   "id": "e8aa9123-e6bc-4c31-938b-c5aae331d103",
   "metadata": {
    "tags": []
   },
   "outputs": [],
   "source": [
    "# Read in the data\n",
    "fp = os.path.join('data','California_Fire_Perimeters','California_Fire_Perimeters_(all).shp')\n",
    "fire_perimeter = gpd.read_file(fp)"
   ]
  },
  {
   "cell_type": "markdown",
   "id": "c3e8fa1c-9ee9-4477-b560-440082ab21b6",
   "metadata": {},
   "source": [
    "## Fire perimeter data retrieval and selection"
   ]
  },
  {
   "cell_type": "markdown",
   "id": "17757c37-a64f-4578-8e00-b3bbd57ba5f2",
   "metadata": {},
   "source": [
    "a. Explore the data and write a brief summary of the information you obtained"
   ]
  },
  {
   "cell_type": "code",
   "execution_count": 4,
   "id": "c8390733-6bd4-4c83-a86c-182c7d8d3452",
   "metadata": {
    "tags": []
   },
   "outputs": [
    {
     "name": "stdout",
     "output_type": "stream",
     "text": [
      "The CRS is:               EPSG:3857\n",
      "Is the CRS geographic?:   False\n",
      "Is the CRS projected?:    True\n",
      "ellipsoid:                WGS 84\n",
      "datum:                    World Geodetic System 1984 ensemble\n"
     ]
    }
   ],
   "source": [
    "# Find CRS, if its projected or graphic, ellipsoid, and datum of df\n",
    "print(f\"{'The CRS is:':<25} {fire_perimeter.crs}\")\n",
    "print(f\"{'Is the CRS geographic?:':<25} {fire_perimeter.crs.is_geographic}\")\n",
    "print(f\"{'Is the CRS projected?:':<25} {fire_perimeter.crs.is_projected}\")\n",
    "print(f\"{'ellipsoid:':<25} {fire_perimeter.crs.ellipsoid}\")\n",
    "print(f\"{'datum:':<25} {fire_perimeter.crs.datum}\")"
   ]
  },
  {
   "cell_type": "code",
   "execution_count": 5,
   "id": "5dbd3804-4491-4d2b-ad63-f7472999646c",
   "metadata": {},
   "outputs": [
    {
     "data": {
      "text/html": [
       "<div>\n",
       "<style scoped>\n",
       "    .dataframe tbody tr th:only-of-type {\n",
       "        vertical-align: middle;\n",
       "    }\n",
       "\n",
       "    .dataframe tbody tr th {\n",
       "        vertical-align: top;\n",
       "    }\n",
       "\n",
       "    .dataframe thead th {\n",
       "        text-align: right;\n",
       "    }\n",
       "</style>\n",
       "<table border=\"1\" class=\"dataframe\">\n",
       "  <thead>\n",
       "    <tr style=\"text-align: right;\">\n",
       "      <th></th>\n",
       "      <th>YEAR_</th>\n",
       "      <th>STATE</th>\n",
       "      <th>AGENCY</th>\n",
       "      <th>UNIT_ID</th>\n",
       "      <th>FIRE_NAME</th>\n",
       "      <th>INC_NUM</th>\n",
       "      <th>ALARM_DATE</th>\n",
       "      <th>CONT_DATE</th>\n",
       "      <th>CAUSE</th>\n",
       "      <th>C_METHOD</th>\n",
       "      <th>OBJECTIVE</th>\n",
       "      <th>GIS_ACRES</th>\n",
       "      <th>COMMENTS</th>\n",
       "      <th>COMPLEX_NA</th>\n",
       "      <th>IRWINID</th>\n",
       "      <th>FIRE_NUM</th>\n",
       "      <th>COMPLEX_ID</th>\n",
       "      <th>DECADES</th>\n",
       "      <th>geometry</th>\n",
       "    </tr>\n",
       "  </thead>\n",
       "  <tbody>\n",
       "    <tr>\n",
       "      <th>0</th>\n",
       "      <td>2023</td>\n",
       "      <td>CA</td>\n",
       "      <td>CDF</td>\n",
       "      <td>SKU</td>\n",
       "      <td>WHITWORTH</td>\n",
       "      <td>00004808</td>\n",
       "      <td>2023-06-17</td>\n",
       "      <td>2023-06-17</td>\n",
       "      <td>5</td>\n",
       "      <td>1</td>\n",
       "      <td>1</td>\n",
       "      <td>5.72913</td>\n",
       "      <td>None</td>\n",
       "      <td>None</td>\n",
       "      <td>{7985848C-0AC2-4BA4-8F0E-29F778652E61}</td>\n",
       "      <td>None</td>\n",
       "      <td>None</td>\n",
       "      <td>2020</td>\n",
       "      <td>POLYGON ((-13682443.000 5091132.739, -13682445...</td>\n",
       "    </tr>\n",
       "    <tr>\n",
       "      <th>1</th>\n",
       "      <td>2023</td>\n",
       "      <td>CA</td>\n",
       "      <td>LRA</td>\n",
       "      <td>BTU</td>\n",
       "      <td>KAISER</td>\n",
       "      <td>00010225</td>\n",
       "      <td>2023-06-02</td>\n",
       "      <td>2023-06-02</td>\n",
       "      <td>5</td>\n",
       "      <td>1</td>\n",
       "      <td>1</td>\n",
       "      <td>13.60240</td>\n",
       "      <td>None</td>\n",
       "      <td>None</td>\n",
       "      <td>{43EBCC88-B3AC-48EB-8EF5-417FE0939CCF}</td>\n",
       "      <td>None</td>\n",
       "      <td>None</td>\n",
       "      <td>2020</td>\n",
       "      <td>POLYGON ((-13576727.142 4841226.161, -13576726...</td>\n",
       "    </tr>\n",
       "    <tr>\n",
       "      <th>2</th>\n",
       "      <td>2023</td>\n",
       "      <td>CA</td>\n",
       "      <td>CDF</td>\n",
       "      <td>AEU</td>\n",
       "      <td>JACKSON</td>\n",
       "      <td>00017640</td>\n",
       "      <td>2023-07-01</td>\n",
       "      <td>2023-07-02</td>\n",
       "      <td>2</td>\n",
       "      <td>1</td>\n",
       "      <td>1</td>\n",
       "      <td>27.81450</td>\n",
       "      <td>None</td>\n",
       "      <td>None</td>\n",
       "      <td>{B64E1355-BF1D-441A-95D0-BC1FBB93483B}</td>\n",
       "      <td>None</td>\n",
       "      <td>None</td>\n",
       "      <td>2020</td>\n",
       "      <td>POLYGON ((-13459243.000 4621236.000, -13458968...</td>\n",
       "    </tr>\n",
       "  </tbody>\n",
       "</table>\n",
       "</div>"
      ],
      "text/plain": [
       "   YEAR_ STATE AGENCY UNIT_ID  FIRE_NAME   INC_NUM  ALARM_DATE   CONT_DATE  \\\n",
       "0   2023    CA    CDF     SKU  WHITWORTH  00004808  2023-06-17  2023-06-17   \n",
       "1   2023    CA    LRA     BTU     KAISER  00010225  2023-06-02  2023-06-02   \n",
       "2   2023    CA    CDF     AEU    JACKSON  00017640  2023-07-01  2023-07-02   \n",
       "\n",
       "   CAUSE  C_METHOD  OBJECTIVE  GIS_ACRES COMMENTS COMPLEX_NA  \\\n",
       "0      5         1          1    5.72913     None       None   \n",
       "1      5         1          1   13.60240     None       None   \n",
       "2      2         1          1   27.81450     None       None   \n",
       "\n",
       "                                  IRWINID FIRE_NUM COMPLEX_ID  DECADES  \\\n",
       "0  {7985848C-0AC2-4BA4-8F0E-29F778652E61}     None       None     2020   \n",
       "1  {43EBCC88-B3AC-48EB-8EF5-417FE0939CCF}     None       None     2020   \n",
       "2  {B64E1355-BF1D-441A-95D0-BC1FBB93483B}     None       None     2020   \n",
       "\n",
       "                                            geometry  \n",
       "0  POLYGON ((-13682443.000 5091132.739, -13682445...  \n",
       "1  POLYGON ((-13576727.142 4841226.161, -13576726...  \n",
       "2  POLYGON ((-13459243.000 4621236.000, -13458968...  "
      ]
     },
     "execution_count": 5,
     "metadata": {},
     "output_type": "execute_result"
    }
   ],
   "source": [
    "# View the first three rows of the df\n",
    "fire_perimeter.head(3)"
   ]
  },
  {
   "cell_type": "code",
   "execution_count": 6,
   "id": "77620793-56b4-4bbe-b29e-5acaa06b4a36",
   "metadata": {
    "tags": []
   },
   "outputs": [
    {
     "data": {
      "text/plain": [
       "(22261, 19)"
      ]
     },
     "execution_count": 6,
     "metadata": {},
     "output_type": "execute_result"
    }
   ],
   "source": [
    "# Find the size of the df\n",
    "fire_perimeter.shape"
   ]
  },
  {
   "cell_type": "code",
   "execution_count": 7,
   "id": "c644aee5-422a-427b-9953-b54e72e3b267",
   "metadata": {
    "tags": []
   },
   "outputs": [
    {
     "data": {
      "text/plain": [
       "array([2023, 2022, 2021, 2020, 2019, 2018, 2017, 2016, 2015, 2014, 2013,\n",
       "       2012, 2011, 2010, 2009, 2008, 2007, 2006, 2005, 2004, 2003, 2002,\n",
       "       2001, 2000, 1999, 1998, 1997, 1996, 1995, 1994, 1993, 1992, 1991,\n",
       "       1990, 1989, 1988, 1987, 1986, 1985, 1984, 1983, 1982, 1981, 1980,\n",
       "       1979, 1978, 1977, 1976, 1975, 1974, 1973, 1972, 1971, 1970, 1969,\n",
       "       1968, 1967, 1966, 1965, 1964, 1963, 1962, 1961, 1960, 1959, 1958,\n",
       "       1957, 1956, 1955, 1954, 1953, 1952, 1951, 1950, 1949, 1948, 1947,\n",
       "       1946, 1945, 1944, 1943, 1942, 1941, 1940, 1939, 1938, 1937, 1936,\n",
       "       1935, 1934, 1933, 1932, 1931, 1930, 1929, 1928, 1927, 1926, 1925,\n",
       "       1924, 1923, 1922, 1921, 1920, 1919, 1918, 1917, 1916, 1915, 1914,\n",
       "       1913, 1912, 1911, 1910, 1909, 1908, 1907, 1906, 1905, 1903, 1902,\n",
       "       1900, 1898, 1896, 1895, 1878,    0])"
      ]
     },
     "execution_count": 7,
     "metadata": {},
     "output_type": "execute_result"
    }
   ],
   "source": [
    "# Find what years are included in the df\n",
    "fire_perimeter['YEAR_'].unique()"
   ]
  },
  {
   "cell_type": "code",
   "execution_count": 8,
   "id": "fef89214-7efe-4c0f-b6ce-404e00984681",
   "metadata": {
    "tags": []
   },
   "outputs": [
    {
     "data": {
      "text/plain": [
       "array(['CDF', 'LRA', 'CCO', 'FWS', 'USF', 'NPS', 'BLM', 'BIA', 'DOD',\n",
       "       None, 'OTH'], dtype=object)"
      ]
     },
     "execution_count": 8,
     "metadata": {},
     "output_type": "execute_result"
    }
   ],
   "source": [
    "# Find what agencies are included in the df\n",
    "fire_perimeter['AGENCY'].unique()"
   ]
  },
  {
   "cell_type": "markdown",
   "id": "841bb53e-7fa9-4d40-bf7d-aa138f6b5ad7",
   "metadata": {},
   "source": [
    "Through the initial data exploration, I found the CRS is EPSG 3857. I also found the data is projected and not geographic and the ellipsoid is WGS 84. I viewed the first three columns of the dataframe and was able to look at the different column names. I then looked at the shape of the df and found there are 22261 rows and 19 columns. I also looked at the years that this df covers and the yeaers span from 1878-2023 with a year 0 as well. The agencies included in this df are 'CDF', 'LRA', 'CCO', 'FWS', 'USF', 'NPS', 'BLM', 'BIA', 'DOD', 'OTH', and none."
   ]
  },
  {
   "cell_type": "markdown",
   "id": "a1aca220-90e5-4e14-8c56-2c50a9673002",
   "metadata": {},
   "source": [
    "b. Select the Thomas Fire Boundary that occured in 2017"
   ]
  },
  {
   "cell_type": "code",
   "execution_count": 9,
   "id": "53871091-f082-409b-90b2-b4f3a2248c72",
   "metadata": {},
   "outputs": [
    {
     "data": {
      "text/html": [
       "<div>\n",
       "<style scoped>\n",
       "    .dataframe tbody tr th:only-of-type {\n",
       "        vertical-align: middle;\n",
       "    }\n",
       "\n",
       "    .dataframe tbody tr th {\n",
       "        vertical-align: top;\n",
       "    }\n",
       "\n",
       "    .dataframe thead th {\n",
       "        text-align: right;\n",
       "    }\n",
       "</style>\n",
       "<table border=\"1\" class=\"dataframe\">\n",
       "  <thead>\n",
       "    <tr style=\"text-align: right;\">\n",
       "      <th></th>\n",
       "      <th>YEAR_</th>\n",
       "      <th>STATE</th>\n",
       "      <th>AGENCY</th>\n",
       "      <th>UNIT_ID</th>\n",
       "      <th>FIRE_NAME</th>\n",
       "      <th>INC_NUM</th>\n",
       "      <th>ALARM_DATE</th>\n",
       "      <th>CONT_DATE</th>\n",
       "      <th>CAUSE</th>\n",
       "      <th>C_METHOD</th>\n",
       "      <th>OBJECTIVE</th>\n",
       "      <th>GIS_ACRES</th>\n",
       "      <th>COMMENTS</th>\n",
       "      <th>COMPLEX_NA</th>\n",
       "      <th>IRWINID</th>\n",
       "      <th>FIRE_NUM</th>\n",
       "      <th>COMPLEX_ID</th>\n",
       "      <th>DECADES</th>\n",
       "      <th>geometry</th>\n",
       "    </tr>\n",
       "  </thead>\n",
       "  <tbody>\n",
       "    <tr>\n",
       "      <th>2654</th>\n",
       "      <td>2017</td>\n",
       "      <td>CA</td>\n",
       "      <td>USF</td>\n",
       "      <td>VNC</td>\n",
       "      <td>THOMAS</td>\n",
       "      <td>00003583</td>\n",
       "      <td>2017-12-04</td>\n",
       "      <td>2018-01-12</td>\n",
       "      <td>9</td>\n",
       "      <td>7</td>\n",
       "      <td>1</td>\n",
       "      <td>281791.0</td>\n",
       "      <td>CONT_DATE based on Inciweb</td>\n",
       "      <td>None</td>\n",
       "      <td>None</td>\n",
       "      <td>None</td>\n",
       "      <td>None</td>\n",
       "      <td>2010</td>\n",
       "      <td>MULTIPOLYGON (((-13316089.016 4088553.040, -13...</td>\n",
       "    </tr>\n",
       "  </tbody>\n",
       "</table>\n",
       "</div>"
      ],
      "text/plain": [
       "      YEAR_ STATE AGENCY UNIT_ID FIRE_NAME   INC_NUM  ALARM_DATE   CONT_DATE  \\\n",
       "2654   2017    CA    USF     VNC    THOMAS  00003583  2017-12-04  2018-01-12   \n",
       "\n",
       "      CAUSE  C_METHOD  OBJECTIVE  GIS_ACRES                    COMMENTS  \\\n",
       "2654      9         7          1   281791.0  CONT_DATE based on Inciweb   \n",
       "\n",
       "     COMPLEX_NA IRWINID FIRE_NUM COMPLEX_ID  DECADES  \\\n",
       "2654       None    None     None       None     2010   \n",
       "\n",
       "                                               geometry  \n",
       "2654  MULTIPOLYGON (((-13316089.016 4088553.040, -13...  "
      ]
     },
     "execution_count": 9,
     "metadata": {},
     "output_type": "execute_result"
    }
   ],
   "source": [
    "# Select the Thomas Fire in 2017\n",
    "thomas_fire = fire_perimeter[(fire_perimeter['FIRE_NAME'] == \"THOMAS\") & (fire_perimeter['YEAR_'] == 2017)] \n",
    "thomas_fire.head()\n"
   ]
  },
  {
   "cell_type": "markdown",
   "id": "e5c6192e-893d-46af-aa09-dad5a120ed90",
   "metadata": {},
   "source": [
    "c. Save only the Thomas Fire boundary as a geospatial file in the data folder"
   ]
  },
  {
   "cell_type": "code",
   "execution_count": 13,
   "id": "367ab16b-a935-46bd-84ee-1a32c1ba8c4d",
   "metadata": {},
   "outputs": [],
   "source": [
    "# Save Thomas Fire as a nc file\n",
    "thomas_fire.to_file(\"thomas_fire.geojson\", driver=\"GeoJSON\")"
   ]
  },
  {
   "cell_type": "markdown",
   "id": "740e38e2-a746-49e5-a1db-5a3bc04aafc8",
   "metadata": {},
   "source": [
    "d. Explain your reasoning for selecting the geospatial file format"
   ]
  }
 ],
 "metadata": {
  "kernelspec": {
   "display_name": "Anaconda 3 (EDS220)",
   "language": "python",
   "name": "eds220-env"
  },
  "language_info": {
   "codemirror_mode": {
    "name": "ipython",
    "version": 3
   },
   "file_extension": ".py",
   "mimetype": "text/x-python",
   "name": "python",
   "nbconvert_exporter": "python",
   "pygments_lexer": "ipython3",
   "version": "3.11.4"
  }
 },
 "nbformat": 4,
 "nbformat_minor": 5
}
